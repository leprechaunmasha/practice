{
 "cells": [
  {
   "cell_type": "markdown",
   "metadata": {},
   "source": [
    "# Исследование регионов для выбора места разработки"
   ]
  },
  {
   "cell_type": "markdown",
   "metadata": {},
   "source": [
    "## Порядок выполнения проекта\n",
    "- Загрузить и подготовить данные. Пояснить порядок действий.\n",
    "- Обучить и проверить модель для каждого региона:\n",
    " - 2.1. Разбить данные на обучающую и валидационную выборки в соотношении 75:25.\n",
    " - 2.2. Обучить модель и сделать предсказания на валидационной выборке.\n",
    " - 2.3. Сохранить предсказания и правильные ответы на валидационной выборке.\n",
    " - 2.4. Напечатать на экране средний запас предсказанного сырья и RMSE модели.\n",
    " - 2.5. Проанализировать результаты.\n",
    "- Подготовиться к расчёту прибыли:\n",
    " - 3.1. Все ключевые значения для расчётов сохранить в отдельных переменных.\n",
    " - 3.2. Рассчитать достаточный объём сырья для безубыточной разработки новой скважины. Сравнить полученный объём сырья со средним запасом в каждом регионе.\n",
    " - 3.3. Написать выводы по этапу подготовки расчёта прибыли.\n",
    "- Написать функцию для расчёта прибыли по выбранным скважинам и предсказаниям модели:\n",
    " - 4.1. Выбрать скважины с максимальными значениями предсказаний. Количество скважин зависит от бюджета компании и стоимости разработки одной скважины.\n",
    " - 4.2. Просуммировать целевое значение объёма сырья, соответствующее этим предсказаниям.\n",
    " - 4.3. Рассчитать прибыль для полученного объёма сырья.\n",
    "- Посчитать риски и прибыль для каждого региона:\n",
    " - 5.1. Применить технику Bootstrap с 1000 выборок, чтобы найти распределение прибыли.\n",
    " - 5.2. Найти среднюю прибыль, 95%-й доверительный интервал и риск убытков. Убыток — это отрицательная прибыль.\n",
    " - 5.3. Написать выводы: предложить регион для разработки скважин и обосновать выбор.\n",
    "\n",
    "## Описание данных\n",
    "Данные геологоразведки трёх регионов находятся в файлах:\n",
    "* geo_data_0.csv, geo_data_1.csv, geo_data_2.csv\n",
    "    * id — уникальный идентификатор скважины (точки);\n",
    "    * f0, f1, f2 — три признака точек (неважно, что они означают, но сами признаки значимы);\n",
    "    * product — объём запасов в скважине (тыс. баррелей)."
   ]
  },
  {
   "cell_type": "markdown",
   "metadata": {},
   "source": [
    "# 1. Загрузка и подготовка данных"
   ]
  },
  {
   "cell_type": "code",
   "execution_count": 1,
   "metadata": {},
   "outputs": [],
   "source": [
    "#1\n",
    "import pandas as pd\n",
    "import matplotlib.pyplot as plt\n",
    "from sklearn.model_selection import train_test_split\n",
    "\n",
    "#2\n",
    "from sklearn.linear_model import LinearRegression\n",
    "from sklearn.model_selection import cross_val_score\n",
    "from sklearn.metrics import mean_squared_error\n",
    "\n",
    "#5\n",
    "from numpy.random import RandomState"
   ]
  },
  {
   "cell_type": "markdown",
   "metadata": {},
   "source": [
    "Откроем файлы с данными и изучим общую информацию."
   ]
  },
  {
   "cell_type": "code",
   "execution_count": 2,
   "metadata": {},
   "outputs": [],
   "source": [
    "geo_data_0 = pd.read_csv('/datasets/geo_data_0.csv')\n",
    "geo_data_1 = pd.read_csv('/datasets/geo_data_1.csv')\n",
    "geo_data_2 = pd.read_csv('/datasets/geo_data_2.csv')"
   ]
  },
  {
   "cell_type": "code",
   "execution_count": 3,
   "metadata": {},
   "outputs": [],
   "source": [
    "#округляем значения до сотых при отображении в выводе дробных чисел\n",
    "pd.options.display.float_format = '{:,.2f}'.format"
   ]
  },
  {
   "cell_type": "code",
   "execution_count": 4,
   "metadata": {},
   "outputs": [
    {
     "name": "stdout",
     "output_type": "stream",
     "text": [
      "Регион 0 :\n",
      "--------------\n",
      "<class 'pandas.core.frame.DataFrame'>\n",
      "RangeIndex: 100000 entries, 0 to 99999\n",
      "Data columns (total 5 columns):\n",
      " #   Column   Non-Null Count   Dtype  \n",
      "---  ------   --------------   -----  \n",
      " 0   id       100000 non-null  object \n",
      " 1   f0       100000 non-null  float64\n",
      " 2   f1       100000 non-null  float64\n",
      " 3   f2       100000 non-null  float64\n",
      " 4   product  100000 non-null  float64\n",
      "dtypes: float64(4), object(1)\n",
      "memory usage: 3.8+ MB\n",
      "None\n",
      "      id    f0    f1   f2  product\n",
      "0  txEyH  0.71 -0.50 1.22   105.28\n",
      "1  2acmU  1.33 -0.34 4.37    73.04\n",
      "2  409Wp  1.02  0.15 1.42    85.27\n",
      "3  iJLyR -0.03  0.14 2.98   168.62\n",
      "4  Xdl7t  1.99  0.16 4.75   154.04\n",
      "Дубликаты строк: 0\n",
      "--------------\n",
      "Регион 1 :\n",
      "--------------\n",
      "<class 'pandas.core.frame.DataFrame'>\n",
      "RangeIndex: 100000 entries, 0 to 99999\n",
      "Data columns (total 5 columns):\n",
      " #   Column   Non-Null Count   Dtype  \n",
      "---  ------   --------------   -----  \n",
      " 0   id       100000 non-null  object \n",
      " 1   f0       100000 non-null  float64\n",
      " 2   f1       100000 non-null  float64\n",
      " 3   f2       100000 non-null  float64\n",
      " 4   product  100000 non-null  float64\n",
      "dtypes: float64(4), object(1)\n",
      "memory usage: 3.8+ MB\n",
      "None\n",
      "      id     f0     f1    f2  product\n",
      "0  kBEdx -15.00  -8.28 -0.01     3.18\n",
      "1  62mP7  14.27  -3.48  1.00    26.95\n",
      "2  vyE1P   6.26  -5.95  5.00   134.77\n",
      "3  KcrkZ -13.08 -11.51  5.00   137.95\n",
      "4  AHL4O  12.70  -8.15  5.00   134.77\n",
      "Дубликаты строк: 0\n",
      "--------------\n",
      "Регион 2 :\n",
      "--------------\n",
      "<class 'pandas.core.frame.DataFrame'>\n",
      "RangeIndex: 100000 entries, 0 to 99999\n",
      "Data columns (total 5 columns):\n",
      " #   Column   Non-Null Count   Dtype  \n",
      "---  ------   --------------   -----  \n",
      " 0   id       100000 non-null  object \n",
      " 1   f0       100000 non-null  float64\n",
      " 2   f1       100000 non-null  float64\n",
      " 3   f2       100000 non-null  float64\n",
      " 4   product  100000 non-null  float64\n",
      "dtypes: float64(4), object(1)\n",
      "memory usage: 3.8+ MB\n",
      "None\n",
      "      id    f0    f1    f2  product\n",
      "0  fwXo0 -1.15  0.96 -0.83    27.76\n",
      "1  WJtFt  0.26  0.27 -2.53    56.07\n",
      "2  ovLUW  0.19  0.29 -5.59    62.87\n",
      "3  q6cA6  2.24 -0.55  0.93   114.57\n",
      "4  WPMUX -0.52  1.72  5.90   149.60\n",
      "Дубликаты строк: 0\n",
      "--------------\n"
     ]
    },
    {
     "data": {
      "image/png": "[encoded data removed]",
      "text/plain": [
       "<Figure size 720x432 with 1 Axes>"
      ]
     },
     "metadata": {
      "needs_background": "light"
     },
     "output_type": "display_data"
    }
   ],
   "source": [
    "regions = [geo_data_0, geo_data_1, geo_data_2]\n",
    "i = 0\n",
    "for reg in regions:\n",
    "    print('Регион', i, ':')\n",
    "    print('--------------')\n",
    "    print(reg.info())\n",
    "    print(reg.head())\n",
    "    print('Дубликаты строк:', reg.duplicated().sum())\n",
    "    print('--------------')\n",
    "    reg['product'].plot(kind='hist', bins=40, alpha=0.5, grid=True, figsize=(10, 6), \\\n",
    "                        title = 'Расределение значений целевого признака')\n",
    "    i += 1\n",
    "plt.show()\n",
    "    "
   ]
  },
  {
   "cell_type": "markdown",
   "metadata": {},
   "source": [
    "Данные:\n",
    "* не содержат пропусков;\n",
    "* категориальный признак id записан смесью цифр и символов английского алфавита;\n",
    "* количественные признаки f0, f1, f2 и product - числа с плавающей точкой;\n",
    "* значения целевого признака для региона с id 1 имеют чётко выраженные группы. \n",
    "\n",
    "Признак id никак не должен повлиять на принятие алгоритмом решения, поэтому его необходимо удалить."
   ]
  },
  {
   "cell_type": "code",
   "execution_count": 5,
   "metadata": {},
   "outputs": [
    {
     "data": {
      "text/html": [
       "<div>\n",
       "<style scoped>\n",
       "    .dataframe tbody tr th:only-of-type {\n",
       "        vertical-align: middle;\n",
       "    }\n",
       "\n",
       "    .dataframe tbody tr th {\n",
       "        vertical-align: top;\n",
       "    }\n",
       "\n",
       "    .dataframe thead th {\n",
       "        text-align: right;\n",
       "    }\n",
       "</style>\n",
       "<table border=\"1\" class=\"dataframe\">\n",
       "  <thead>\n",
       "    <tr style=\"text-align: right;\">\n",
       "      <th></th>\n",
       "      <th>f0</th>\n",
       "      <th>f1</th>\n",
       "      <th>f2</th>\n",
       "      <th>product</th>\n",
       "    </tr>\n",
       "  </thead>\n",
       "  <tbody>\n",
       "    <tr>\n",
       "      <th>0</th>\n",
       "      <td>-1.15</td>\n",
       "      <td>0.96</td>\n",
       "      <td>-0.83</td>\n",
       "      <td>27.76</td>\n",
       "    </tr>\n",
       "    <tr>\n",
       "      <th>1</th>\n",
       "      <td>0.26</td>\n",
       "      <td>0.27</td>\n",
       "      <td>-2.53</td>\n",
       "      <td>56.07</td>\n",
       "    </tr>\n",
       "    <tr>\n",
       "      <th>2</th>\n",
       "      <td>0.19</td>\n",
       "      <td>0.29</td>\n",
       "      <td>-5.59</td>\n",
       "      <td>62.87</td>\n",
       "    </tr>\n",
       "    <tr>\n",
       "      <th>3</th>\n",
       "      <td>2.24</td>\n",
       "      <td>-0.55</td>\n",
       "      <td>0.93</td>\n",
       "      <td>114.57</td>\n",
       "    </tr>\n",
       "    <tr>\n",
       "      <th>4</th>\n",
       "      <td>-0.52</td>\n",
       "      <td>1.72</td>\n",
       "      <td>5.90</td>\n",
       "      <td>149.60</td>\n",
       "    </tr>\n",
       "  </tbody>\n",
       "</table>\n",
       "</div>"
      ],
      "text/plain": [
       "     f0    f1    f2  product\n",
       "0 -1.15  0.96 -0.83    27.76\n",
       "1  0.26  0.27 -2.53    56.07\n",
       "2  0.19  0.29 -5.59    62.87\n",
       "3  2.24 -0.55  0.93   114.57\n",
       "4 -0.52  1.72  5.90   149.60"
      ]
     },
     "execution_count": 5,
     "metadata": {},
     "output_type": "execute_result"
    }
   ],
   "source": [
    "geo_data_0 = geo_data_0.drop(['id'], axis=1)\n",
    "geo_data_1 = geo_data_1.drop(['id'], axis=1)\n",
    "geo_data_2 = geo_data_2.drop(['id'], axis=1)\n",
    "geo_data_2.head()"
   ]
  },
  {
   "cell_type": "markdown",
   "metadata": {},
   "source": [
    "# Вывод\n",
    "\n",
    "Для таблиц по каждому из регионов характерно следующее:\n",
    "    - нет дубликатов,\n",
    "    - нет пропусков данных,\n",
    "    - id - набор символов,\n",
    "    - прочие параметры - числа с плавающей точкой, как положительные, так и отрицательные,\n",
    "    - значения целевого признака в одном из регионов имеют чётко выраженные группы.\n",
    "    \n",
    "Признак id удалён.\n",
    "\n",
    "Данные готовы для дальнейшего использования."
   ]
  },
  {
   "cell_type": "markdown",
   "metadata": {},
   "source": [
    "# 2. Обучение и проверка модели"
   ]
  },
  {
   "cell_type": "markdown",
   "metadata": {},
   "source": [
    "## Обучить и проверить модель для каждого региона:\n",
    "### Разбить данные на обучающую и валидационную выборки в соотношении 75:25\n",
    " "
   ]
  },
  {
   "cell_type": "code",
   "execution_count": 6,
   "metadata": {},
   "outputs": [
    {
     "name": "stdout",
     "output_type": "stream",
     "text": [
      "Размеры выборки. Обучающая: 75000  , валидационная: 25000\n"
     ]
    }
   ],
   "source": [
    "state = 28\n",
    "\n",
    "geo_0_tr, geo_0_val = train_test_split(geo_data_0, test_size=0.25, random_state = state)\n",
    "geo_1_tr, geo_1_val = train_test_split(geo_data_1, test_size=0.25, random_state = state)\n",
    "geo_2_tr, geo_2_val = train_test_split(geo_data_2, test_size=0.25, random_state = state)\n",
    "print('Размеры выборки. Обучающая:', len(geo_0_tr), ' , валидационная:', len(geo_0_val))"
   ]
  },
  {
   "cell_type": "markdown",
   "metadata": {},
   "source": [
    "Для проверки, можно ли использовать одну и ту же модель на всех регионах, сделаем альтернативную обучающую выборку. Для этого возьмём случайным образом треть данных из объединнённой по всем трём регионам."
   ]
  },
  {
   "cell_type": "code",
   "execution_count": 7,
   "metadata": {},
   "outputs": [
    {
     "name": "stdout",
     "output_type": "stream",
     "text": [
      "Размеры выборки. Обучающая: 75000  , обучающая (целевые признаки): 75000\n"
     ]
    },
    {
     "data": {
      "text/plain": [
       "<matplotlib.axes._subplots.AxesSubplot at 0x1a1f6c9f50>"
      ]
     },
     "execution_count": 7,
     "metadata": {},
     "output_type": "execute_result"
    },
    {
     "data": {
      "image/png": "[encoded data removed]",
      "text/plain": [
       "<Figure size 720x432 with 1 Axes>"
      ]
     },
     "metadata": {
      "needs_background": "light"
     },
     "output_type": "display_data"
    }
   ],
   "source": [
    "train = pd.concat([geo_0_tr, geo_1_tr, geo_2_tr]).sample(n = len(geo_0_tr), \\\n",
    "                                                                  random_state = state, replace=False)\n",
    "train_target = train['product']\n",
    "train_features = train.drop(['product'], axis=1)\n",
    "print('Размеры выборки. Обучающая:', len(train_features), ' , обучающая (целевые признаки):', len(train_target))\n",
    "train_target.hist(bins=40, figsize=(10, 6))"
   ]
  },
  {
   "cell_type": "markdown",
   "metadata": {},
   "source": [
    "Выделим целевой признак для обучающих и валидационных выборок по регионам."
   ]
  },
  {
   "cell_type": "code",
   "execution_count": 8,
   "metadata": {},
   "outputs": [],
   "source": [
    "geo_0_target_tr = geo_0_tr['product']\n",
    "geo_0_tr = geo_0_tr.drop(['product'], axis=1)\n",
    "\n",
    "geo_1_target_tr = geo_1_tr['product']\n",
    "geo_1_tr = geo_1_tr.drop(['product'], axis=1)\n",
    "\n",
    "geo_2_target_tr = geo_2_tr['product']\n",
    "geo_2_tr = geo_2_tr.drop(['product'], axis=1)\n",
    "\n",
    "geo_0_target_val = geo_0_val['product']\n",
    "geo_0_val = geo_0_val.drop(['product'], axis=1)\n",
    "\n",
    "geo_1_target_val = geo_1_val['product']\n",
    "geo_1_val = geo_1_val.drop(['product'], axis=1)\n",
    "\n",
    "geo_2_target_val = geo_2_val['product']\n",
    "geo_2_val = geo_2_val.drop(['product'], axis=1)\n"
   ]
  },
  {
   "cell_type": "code",
   "execution_count": 9,
   "metadata": {},
   "outputs": [
    {
     "name": "stdout",
     "output_type": "stream",
     "text": [
      "Размеры выборки. Обучающая: 75000  , обучающая (целевые признаки): 75000 валидационная: 25000 , валидационная (целевые признаки): 25000\n"
     ]
    }
   ],
   "source": [
    "print('Размеры выборки. Обучающая:', len(geo_0_tr), ' , обучающая (целевые признаки):', len(geo_0_target_tr), \\\n",
    "      'валидационная:', len(geo_0_val), ', валидационная (целевые признаки):', len(geo_0_target_val))"
   ]
  },
  {
   "cell_type": "code",
   "execution_count": 10,
   "metadata": {},
   "outputs": [
    {
     "data": {
      "text/plain": [
       "<matplotlib.axes._subplots.AxesSubplot at 0x10b439c10>"
      ]
     },
     "execution_count": 10,
     "metadata": {},
     "output_type": "execute_result"
    },
    {
     "data": {
      "image/png": "[encoded data removed]",
      "text/plain": [
       "<Figure size 720x432 with 1 Axes>"
      ]
     },
     "metadata": {
      "needs_background": "light"
     },
     "output_type": "display_data"
    }
   ],
   "source": [
    "geo_0_target_tr.plot(kind='hist', bins=40, alpha=0.5, grid=True, figsize=(10, 6), \\\n",
    "                        title = 'Расределение значений целевого признака')\n",
    "geo_1_target_tr.plot(kind='hist', bins=40, alpha=0.5, grid=True, figsize=(10, 6), \\\n",
    "                        title = 'Расределение значений целевого признака')\n",
    "geo_2_target_tr.plot(kind='hist', bins=40, alpha=0.5, grid=True, figsize=(10, 6), \\\n",
    "                        title = 'Расределение значений целевого признака')"
   ]
  },
  {
   "cell_type": "markdown",
   "metadata": {},
   "source": [
    "Полученные тестовые выборки по форме похожи на совмещённые данные по всем регионам."
   ]
  },
  {
   "cell_type": "markdown",
   "metadata": {},
   "source": [
    "### Обучить модель и сделать предсказания на валидационной выборке. Сохранить предсказания и правильные ответы на валидационной выборке. Напечатать на экране средний запас предсказанного сырья и RMSE модели"
   ]
  },
  {
   "cell_type": "markdown",
   "metadata": {},
   "source": [
    "По условиям задачи для обучения модели подходит только линейная регрессия (остальные — недостаточно предсказуемые).\n",
    "**Модель 0.** Обучение на объединённой выборке."
   ]
  },
  {
   "cell_type": "code",
   "execution_count": 11,
   "metadata": {},
   "outputs": [
    {
     "data": {
      "text/plain": [
       "0.3029914214497064"
      ]
     },
     "execution_count": 11,
     "metadata": {},
     "output_type": "execute_result"
    }
   ],
   "source": [
    "model = LinearRegression()\n",
    "final_score = cross_val_score(model, train_features, train_target, cv=5).sum() / 5\n",
    "model.fit(train_features, train_target)\n",
    "\n",
    "total_predict = pd.DataFrame(columns=['fact', 'predict', 'rmse'])\n",
    "\n",
    "def region_predict(reg_name, geo_val, geo_target_val):\n",
    "    predicted_valid = model.predict(geo_val)\n",
    "    mse = mean_squared_error(geo_target_val, predicted_valid)\n",
    "    total_predict.loc[reg_name, 'fact'] = geo_target_val.mean()\n",
    "    total_predict.loc[reg_name, 'predict'] = predicted_valid.mean()\n",
    "    total_predict.loc[reg_name, 'rmse'] = mse ** 0.5\n",
    "    print(reg_name, ': ', model.score(geo_val, geo_target_val))\n",
    "    \n",
    "    return\n",
    "\n",
    "final_score"
   ]
  },
  {
   "cell_type": "code",
   "execution_count": 12,
   "metadata": {},
   "outputs": [
    {
     "name": "stdout",
     "output_type": "stream",
     "text": [
      "0 :  0.19674126495234634\n",
      "1 :  0.4315515714441077\n",
      "2 :  0.12680458147171292\n"
     ]
    },
    {
     "data": {
      "text/html": [
       "<div>\n",
       "<style scoped>\n",
       "    .dataframe tbody tr th:only-of-type {\n",
       "        vertical-align: middle;\n",
       "    }\n",
       "\n",
       "    .dataframe tbody tr th {\n",
       "        vertical-align: top;\n",
       "    }\n",
       "\n",
       "    .dataframe thead th {\n",
       "        text-align: right;\n",
       "    }\n",
       "</style>\n",
       "<table border=\"1\" class=\"dataframe\">\n",
       "  <thead>\n",
       "    <tr style=\"text-align: right;\">\n",
       "      <th></th>\n",
       "      <th>fact</th>\n",
       "      <th>predict</th>\n",
       "      <th>rmse</th>\n",
       "    </tr>\n",
       "  </thead>\n",
       "  <tbody>\n",
       "    <tr>\n",
       "      <th>0</th>\n",
       "      <td>92.43</td>\n",
       "      <td>88.48</td>\n",
       "      <td>39.64</td>\n",
       "    </tr>\n",
       "    <tr>\n",
       "      <th>1</th>\n",
       "      <td>68.67</td>\n",
       "      <td>79.45</td>\n",
       "      <td>34.61</td>\n",
       "    </tr>\n",
       "    <tr>\n",
       "      <th>2</th>\n",
       "      <td>94.74</td>\n",
       "      <td>87.79</td>\n",
       "      <td>41.74</td>\n",
       "    </tr>\n",
       "  </tbody>\n",
       "</table>\n",
       "</div>"
      ],
      "text/plain": [
       "   fact predict  rmse\n",
       "0 92.43   88.48 39.64\n",
       "1 68.67   79.45 34.61\n",
       "2 94.74   87.79 41.74"
      ]
     },
     "execution_count": 12,
     "metadata": {},
     "output_type": "execute_result"
    }
   ],
   "source": [
    "#результаты предсказаний по регионам\n",
    "\n",
    "region_predict(0, geo_0_val, geo_0_target_val)\n",
    "region_predict(1, geo_1_val, geo_1_target_val)\n",
    "region_predict(2, geo_2_val, geo_2_target_val)\n",
    "total_predict"
   ]
  },
  {
   "cell_type": "markdown",
   "metadata": {},
   "source": [
    "Для обучения модели использовалась объединённая выборка по трём регионам. \n",
    "\n",
    "В результате значительно меньшее RMSE у региона 1, там же и значение R2 больше. Модель лучше предсказывает данные, в регионе, где имеется чёткое разделение значений целевого признака по группам.\n",
    "\n",
    "Попробуем построить альтернативные модели.\n",
    "\n",
    "**Модель 1.** Для каждого региона модель обучается только на собственных данных."
   ]
  },
  {
   "cell_type": "code",
   "execution_count": 13,
   "metadata": {},
   "outputs": [
    {
     "name": "stdout",
     "output_type": "stream",
     "text": [
      "Размеры выборки. Обучающая: 75000  , обучающая (целевые признаки): 75000 валидационная: 25000 , валидационная (целевые признаки): 25000\n",
      "3 :  0.27332124901685595\n",
      "4 :  0.9996234156340127\n",
      "5 :  0.1981755867277667\n"
     ]
    },
    {
     "data": {
      "text/html": [
       "<div>\n",
       "<style scoped>\n",
       "    .dataframe tbody tr th:only-of-type {\n",
       "        vertical-align: middle;\n",
       "    }\n",
       "\n",
       "    .dataframe tbody tr th {\n",
       "        vertical-align: top;\n",
       "    }\n",
       "\n",
       "    .dataframe thead th {\n",
       "        text-align: right;\n",
       "    }\n",
       "</style>\n",
       "<table border=\"1\" class=\"dataframe\">\n",
       "  <thead>\n",
       "    <tr style=\"text-align: right;\">\n",
       "      <th></th>\n",
       "      <th>fact</th>\n",
       "      <th>predict</th>\n",
       "      <th>rmse</th>\n",
       "    </tr>\n",
       "  </thead>\n",
       "  <tbody>\n",
       "    <tr>\n",
       "      <th>0</th>\n",
       "      <td>92.43</td>\n",
       "      <td>88.48</td>\n",
       "      <td>39.64</td>\n",
       "    </tr>\n",
       "    <tr>\n",
       "      <th>1</th>\n",
       "      <td>68.67</td>\n",
       "      <td>79.45</td>\n",
       "      <td>34.61</td>\n",
       "    </tr>\n",
       "    <tr>\n",
       "      <th>2</th>\n",
       "      <td>94.74</td>\n",
       "      <td>87.79</td>\n",
       "      <td>41.74</td>\n",
       "    </tr>\n",
       "    <tr>\n",
       "      <th>3</th>\n",
       "      <td>92.43</td>\n",
       "      <td>92.44</td>\n",
       "      <td>37.70</td>\n",
       "    </tr>\n",
       "    <tr>\n",
       "      <th>4</th>\n",
       "      <td>68.67</td>\n",
       "      <td>68.68</td>\n",
       "      <td>0.89</td>\n",
       "    </tr>\n",
       "    <tr>\n",
       "      <th>5</th>\n",
       "      <td>94.74</td>\n",
       "      <td>94.70</td>\n",
       "      <td>40.00</td>\n",
       "    </tr>\n",
       "  </tbody>\n",
       "</table>\n",
       "</div>"
      ],
      "text/plain": [
       "   fact predict  rmse\n",
       "0 92.43   88.48 39.64\n",
       "1 68.67   79.45 34.61\n",
       "2 94.74   87.79 41.74\n",
       "3 92.43   92.44 37.70\n",
       "4 68.67   68.68  0.89\n",
       "5 94.74   94.70 40.00"
      ]
     },
     "execution_count": 13,
     "metadata": {},
     "output_type": "execute_result"
    }
   ],
   "source": [
    "print('Размеры выборки. Обучающая:', len(geo_0_tr), ' , обучающая (целевые признаки):', len(geo_0_target_tr), \\\n",
    "      'валидационная:', len(geo_0_val), ', валидационная (целевые признаки):', len(geo_0_target_val))\n",
    "\n",
    "\n",
    "model = LinearRegression()\n",
    "\n",
    "def region_predict1(reg_name, geo_tr, geo_target_tr, geo_val, geo_target_val):\n",
    "    model.fit(geo_tr, geo_target_tr)\n",
    "    predicted_valid = model.predict(geo_val)\n",
    "    mse = mean_squared_error(geo_target_val, predicted_valid)\n",
    "    total_predict.loc[reg_name, 'fact'] = geo_target_val.mean()\n",
    "    total_predict.loc[reg_name, 'predict'] = predicted_valid.mean()\n",
    "    total_predict.loc[reg_name, 'rmse'] = mse ** 0.5\n",
    "    print(reg_name, ': ', model.score(geo_val, geo_target_val))\n",
    "    return\n",
    "\n",
    "region_predict1(3, geo_0_tr, geo_0_target_tr, geo_0_val, geo_0_target_val)\n",
    "region_predict1(4, geo_1_tr, geo_1_target_tr, geo_1_val, geo_1_target_val)\n",
    "region_predict1(5, geo_2_tr, geo_2_target_tr, geo_2_val, geo_2_target_val)\n",
    "\n",
    "total_predict"
   ]
  },
  {
   "cell_type": "markdown",
   "metadata": {},
   "source": [
    "Значение RMSE сократилось. Причём, для региона 1 сократилось весьма значительно, а точность этой модели стала составлять почти 100%.\n",
    "\n",
    "Для двух других регионов точность повысилась, уменьшился RMSE, но в меньшей степени.\n",
    "\n",
    "**Модель 2.** Обучим модель только на данных региона 1."
   ]
  },
  {
   "cell_type": "code",
   "execution_count": 14,
   "metadata": {},
   "outputs": [
    {
     "name": "stdout",
     "output_type": "stream",
     "text": [
      "6 :  -2.261061456897505\n",
      "7 :  0.9996234156340127\n",
      "8 :  -2.86290955354289\n"
     ]
    },
    {
     "data": {
      "text/html": [
       "<div>\n",
       "<style scoped>\n",
       "    .dataframe tbody tr th:only-of-type {\n",
       "        vertical-align: middle;\n",
       "    }\n",
       "\n",
       "    .dataframe tbody tr th {\n",
       "        vertical-align: top;\n",
       "    }\n",
       "\n",
       "    .dataframe thead th {\n",
       "        text-align: right;\n",
       "    }\n",
       "</style>\n",
       "<table border=\"1\" class=\"dataframe\">\n",
       "  <thead>\n",
       "    <tr style=\"text-align: right;\">\n",
       "      <th></th>\n",
       "      <th>fact</th>\n",
       "      <th>predict</th>\n",
       "      <th>rmse</th>\n",
       "    </tr>\n",
       "  </thead>\n",
       "  <tbody>\n",
       "    <tr>\n",
       "      <th>0</th>\n",
       "      <td>92.43</td>\n",
       "      <td>88.48</td>\n",
       "      <td>39.64</td>\n",
       "    </tr>\n",
       "    <tr>\n",
       "      <th>1</th>\n",
       "      <td>68.67</td>\n",
       "      <td>79.45</td>\n",
       "      <td>34.61</td>\n",
       "    </tr>\n",
       "    <tr>\n",
       "      <th>2</th>\n",
       "      <td>94.74</td>\n",
       "      <td>87.79</td>\n",
       "      <td>41.74</td>\n",
       "    </tr>\n",
       "    <tr>\n",
       "      <th>3</th>\n",
       "      <td>92.43</td>\n",
       "      <td>92.44</td>\n",
       "      <td>37.70</td>\n",
       "    </tr>\n",
       "    <tr>\n",
       "      <th>4</th>\n",
       "      <td>68.67</td>\n",
       "      <td>68.68</td>\n",
       "      <td>0.89</td>\n",
       "    </tr>\n",
       "    <tr>\n",
       "      <th>5</th>\n",
       "      <td>94.74</td>\n",
       "      <td>94.70</td>\n",
       "      <td>40.00</td>\n",
       "    </tr>\n",
       "    <tr>\n",
       "      <th>6</th>\n",
       "      <td>92.43</td>\n",
       "      <td>68.84</td>\n",
       "      <td>79.87</td>\n",
       "    </tr>\n",
       "    <tr>\n",
       "      <th>7</th>\n",
       "      <td>68.67</td>\n",
       "      <td>68.68</td>\n",
       "      <td>0.89</td>\n",
       "    </tr>\n",
       "    <tr>\n",
       "      <th>8</th>\n",
       "      <td>94.74</td>\n",
       "      <td>67.53</td>\n",
       "      <td>87.80</td>\n",
       "    </tr>\n",
       "  </tbody>\n",
       "</table>\n",
       "</div>"
      ],
      "text/plain": [
       "   fact predict  rmse\n",
       "0 92.43   88.48 39.64\n",
       "1 68.67   79.45 34.61\n",
       "2 94.74   87.79 41.74\n",
       "3 92.43   92.44 37.70\n",
       "4 68.67   68.68  0.89\n",
       "5 94.74   94.70 40.00\n",
       "6 92.43   68.84 79.87\n",
       "7 68.67   68.68  0.89\n",
       "8 94.74   67.53 87.80"
      ]
     },
     "execution_count": 14,
     "metadata": {},
     "output_type": "execute_result"
    }
   ],
   "source": [
    "model = LinearRegression()\n",
    "model.fit(geo_1_tr, geo_1_target_tr)\n",
    "    \n",
    "def region_predict2(reg_name, geo_val, geo_target_val):\n",
    "    predicted_valid = model.predict(geo_val)\n",
    "    mse = mean_squared_error(geo_target_val, predicted_valid)\n",
    "    total_predict.loc[reg_name, 'fact'] = geo_target_val.mean()\n",
    "    total_predict.loc[reg_name, 'predict'] = predicted_valid.mean()\n",
    "    total_predict.loc[reg_name, 'rmse'] = mse ** 0.5\n",
    "    print(reg_name, ': ', model.score(geo_val, geo_target_val))\n",
    "    return\n",
    "\n",
    "region_predict2(6, geo_0_val, geo_0_target_val)\n",
    "region_predict2(7, geo_1_val, geo_1_target_val)\n",
    "region_predict2(8, geo_2_val, geo_2_target_val)\n",
    "\n",
    "total_predict"
   ]
  },
  {
   "cell_type": "markdown",
   "metadata": {},
   "source": [
    "Значение RMSE осталось прежним для региона 1, для остальных - значительно повысилось. \n",
    "\n",
    "Для дальнейшей работы оставляем первую модель (для каждого региона модель обучается на своих данных). Высокое качество предсказаний и меньший квадратный корень из средней квадратичной ошибки в регионе 1 обусловлен самими данными этого региона."
   ]
  },
  {
   "cell_type": "code",
   "execution_count": 15,
   "metadata": {},
   "outputs": [
    {
     "data": {
      "text/html": [
       "<div>\n",
       "<style scoped>\n",
       "    .dataframe tbody tr th:only-of-type {\n",
       "        vertical-align: middle;\n",
       "    }\n",
       "\n",
       "    .dataframe tbody tr th {\n",
       "        vertical-align: top;\n",
       "    }\n",
       "\n",
       "    .dataframe thead th {\n",
       "        text-align: right;\n",
       "    }\n",
       "</style>\n",
       "<table border=\"1\" class=\"dataframe\">\n",
       "  <thead>\n",
       "    <tr style=\"text-align: right;\">\n",
       "      <th></th>\n",
       "      <th>fact</th>\n",
       "      <th>predict</th>\n",
       "      <th>rmse</th>\n",
       "    </tr>\n",
       "  </thead>\n",
       "  <tbody>\n",
       "    <tr>\n",
       "      <th>0</th>\n",
       "      <td>92.43</td>\n",
       "      <td>92.44</td>\n",
       "      <td>37.70</td>\n",
       "    </tr>\n",
       "    <tr>\n",
       "      <th>1</th>\n",
       "      <td>68.67</td>\n",
       "      <td>68.68</td>\n",
       "      <td>0.89</td>\n",
       "    </tr>\n",
       "    <tr>\n",
       "      <th>2</th>\n",
       "      <td>94.74</td>\n",
       "      <td>94.70</td>\n",
       "      <td>40.00</td>\n",
       "    </tr>\n",
       "  </tbody>\n",
       "</table>\n",
       "</div>"
      ],
      "text/plain": [
       "   fact predict  rmse\n",
       "0 92.43   92.44 37.70\n",
       "1 68.67   68.68  0.89\n",
       "2 94.74   94.70 40.00"
      ]
     },
     "execution_count": 15,
     "metadata": {},
     "output_type": "execute_result"
    }
   ],
   "source": [
    "total_predict = total_predict.loc[3:5].copy()\n",
    "total_predict = total_predict.dropna().reset_index(drop=True)\n",
    "total_predict"
   ]
  },
  {
   "cell_type": "code",
   "execution_count": 16,
   "metadata": {},
   "outputs": [
    {
     "data": {
      "text/plain": [
       "LinearRegression(copy_X=True, fit_intercept=True, n_jobs=None, normalize=False)"
      ]
     },
     "execution_count": 16,
     "metadata": {},
     "output_type": "execute_result"
    }
   ],
   "source": [
    "model_0 = LinearRegression()\n",
    "model_1 = LinearRegression()\n",
    "model_2 = LinearRegression()\n",
    "\n",
    "model_0.fit(geo_0_tr, geo_0_target_tr)\n",
    "model_1.fit(geo_1_tr, geo_1_target_tr)\n",
    "model_2.fit(geo_2_tr, geo_2_target_tr)"
   ]
  },
  {
   "cell_type": "markdown",
   "metadata": {},
   "source": [
    "# Вывод\n",
    "\n",
    "Для обучения используем для каждого региона свою выборку."
   ]
  },
  {
   "cell_type": "markdown",
   "metadata": {},
   "source": [
    "# 3. Подготовка к расчёту прибыли"
   ]
  },
  {
   "cell_type": "markdown",
   "metadata": {},
   "source": [
    "## Все ключевые значения для расчётов сохранить в отдельных переменных"
   ]
  },
  {
   "cell_type": "markdown",
   "metadata": {},
   "source": [
    "Для расчёта достаточного объёма сырья для безубыточной работы скважины разделим объём инвестиций на стоимость продукции и количество планируемых скважин."
   ]
  },
  {
   "cell_type": "code",
   "execution_count": 17,
   "metadata": {},
   "outputs": [],
   "source": [
    "# Объём инвестиций (тыс. руб.)\n",
    "INVESTMENTS = 10000000\n",
    "\n",
    "# Цена за единицу продукции (тыс. руб.)\n",
    "PROD_PRICE = 450\n",
    "\n",
    "# Количество рассматриваемых вышек в регионе\n",
    "TOTAL_POINTS = 500\n",
    "\n",
    "# Количество разрабатываемых вышек в регионе\n",
    "POINTS = 200\n",
    "\n",
    "#Максимально допустимая вероятность убытков\n",
    "LOSS = 0.025"
   ]
  },
  {
   "cell_type": "markdown",
   "metadata": {},
   "source": [
    "## Рассчитать достаточный объём сырья для безубыточной разработки новой скважины"
   ]
  },
  {
   "cell_type": "code",
   "execution_count": 18,
   "metadata": {},
   "outputs": [
    {
     "name": "stdout",
     "output_type": "stream",
     "text": [
      "Достаточный объём для безубыточной разработки скважины: 111.11\n"
     ]
    }
   ],
   "source": [
    "min_prod = INVESTMENTS / (PROD_PRICE * POINTS)\n",
    "print('Достаточный объём для безубыточной разработки скважины: {:.2f}'.format(min_prod))"
   ]
  },
  {
   "cell_type": "markdown",
   "metadata": {},
   "source": [
    "## Сравнить полученный объём сырья со средним запасом в каждом регионе"
   ]
  },
  {
   "cell_type": "markdown",
   "metadata": {},
   "source": [
    "Посмотрим на вероятную вероятную прибыль по трём регионам на осовании среднего предсказанного объёма сырья."
   ]
  },
  {
   "cell_type": "code",
   "execution_count": 19,
   "metadata": {},
   "outputs": [
    {
     "data": {
      "text/html": [
       "<div>\n",
       "<style scoped>\n",
       "    .dataframe tbody tr th:only-of-type {\n",
       "        vertical-align: middle;\n",
       "    }\n",
       "\n",
       "    .dataframe tbody tr th {\n",
       "        vertical-align: top;\n",
       "    }\n",
       "\n",
       "    .dataframe thead th {\n",
       "        text-align: right;\n",
       "    }\n",
       "</style>\n",
       "<table border=\"1\" class=\"dataframe\">\n",
       "  <thead>\n",
       "    <tr style=\"text-align: right;\">\n",
       "      <th></th>\n",
       "      <th>fact</th>\n",
       "      <th>predict</th>\n",
       "      <th>rmse</th>\n",
       "      <th>plus</th>\n",
       "      <th>diff</th>\n",
       "      <th>roi</th>\n",
       "    </tr>\n",
       "  </thead>\n",
       "  <tbody>\n",
       "    <tr>\n",
       "      <th>0</th>\n",
       "      <td>92.43</td>\n",
       "      <td>92.44</td>\n",
       "      <td>37.70</td>\n",
       "      <td>8,319,457.73</td>\n",
       "      <td>-1,680,542.27</td>\n",
       "      <td>-0.17</td>\n",
       "    </tr>\n",
       "    <tr>\n",
       "      <th>1</th>\n",
       "      <td>68.67</td>\n",
       "      <td>68.68</td>\n",
       "      <td>0.89</td>\n",
       "      <td>6,180,848.22</td>\n",
       "      <td>-3,819,151.78</td>\n",
       "      <td>-0.38</td>\n",
       "    </tr>\n",
       "    <tr>\n",
       "      <th>2</th>\n",
       "      <td>94.74</td>\n",
       "      <td>94.70</td>\n",
       "      <td>40.00</td>\n",
       "      <td>8,522,592.35</td>\n",
       "      <td>-1,477,407.65</td>\n",
       "      <td>-0.15</td>\n",
       "    </tr>\n",
       "  </tbody>\n",
       "</table>\n",
       "</div>"
      ],
      "text/plain": [
       "   fact predict  rmse         plus          diff   roi\n",
       "0 92.43   92.44 37.70 8,319,457.73 -1,680,542.27 -0.17\n",
       "1 68.67   68.68  0.89 6,180,848.22 -3,819,151.78 -0.38\n",
       "2 94.74   94.70 40.00 8,522,592.35 -1,477,407.65 -0.15"
      ]
     },
     "execution_count": 19,
     "metadata": {},
     "output_type": "execute_result"
    }
   ],
   "source": [
    "# Предсказанная выручка \n",
    "total_predict['plus'] = PROD_PRICE * total_predict['predict'] * POINTS\n",
    "\n",
    "# Предсказанный доход\n",
    "total_predict['diff'] = total_predict['plus'] - INVESTMENTS\n",
    "\n",
    "# Предсказанные затраты на инвестиции\n",
    "total_predict['roi'] = total_predict['diff'] / INVESTMENTS\n",
    "\n",
    "total_predict"
   ]
  },
  {
   "cell_type": "markdown",
   "metadata": {},
   "source": [
    "# Вывод\n",
    "\n",
    "Предсказанный средний объём сырья в регионах от 68.68 до 94.70. Для безубыточной работы в одной скважине должно быть не менее 111.11 сырья.\n",
    "\n",
    "Согласно усреднённым предсказаниям в зависимости от региона не окупится от 15 до 38 процентов вложений.\n",
    "\n",
    "Однако данные усреднённые, значит, по факту могут быть точки со значительно большим количеством сырья."
   ]
  },
  {
   "cell_type": "markdown",
   "metadata": {},
   "source": [
    "# 4. Расчёт прибыли \n",
    "## Напиcать функцию для расчёта прибыли по выбранным скважинам и предсказаниям модели\n",
    "### Выбрать скважины с максимальными значениями предсказаний (количество скважин зависит от бюджета компании и стоимости разработки одной скважины)\n",
    "### Просуммировать целевое значение объёма сырья, соответствующее этим предсказаниям\n",
    "### Рассчитать прибыль для полученного объёма сырья"
   ]
  },
  {
   "cell_type": "markdown",
   "metadata": {},
   "source": [
    "Выберем для каждого региона случайным образом 500 точек для исследования."
   ]
  },
  {
   "cell_type": "code",
   "execution_count": 20,
   "metadata": {},
   "outputs": [],
   "source": [
    "region_0_choice = geo_data_0.sample(n = 500, random_state = state, replace=False, axis = 0)\n",
    "region_1_choice = geo_data_1.sample(n = 500, random_state = state, replace=False, axis = 0)\n",
    "region_2_choice = geo_data_2.sample(n = 500, random_state = state, replace=False, axis = 0)\n",
    "\n",
    "region_0_choice_features = region_0_choice.drop(['product'], axis=1)\n",
    "region_0_target = region_0_choice['product']\n",
    "\n",
    "region_1_choice_features = region_1_choice.drop(['product'], axis=1)\n",
    "region_1_target = region_1_choice['product']\n",
    "\n",
    "region_2_choice_features = region_2_choice.drop(['product'], axis=1)\n",
    "region_2_target = region_2_choice['product']"
   ]
  },
  {
   "cell_type": "markdown",
   "metadata": {},
   "source": [
    "Предскажем значения целевого признака."
   ]
  },
  {
   "cell_type": "code",
   "execution_count": 21,
   "metadata": {},
   "outputs": [],
   "source": [
    "region_0_predict = model_0.predict(region_0_choice_features)\n",
    "region_1_predict = model_1.predict(region_1_choice_features)\n",
    "region_2_predict = model_2.predict(region_2_choice_features)"
   ]
  },
  {
   "cell_type": "markdown",
   "metadata": {},
   "source": [
    "Найдём прибыль."
   ]
  },
  {
   "cell_type": "code",
   "execution_count": 22,
   "metadata": {},
   "outputs": [],
   "source": [
    "def region_profit (region_choice, region_predict):\n",
    "    region_choice['predict'] = region_predict\n",
    "    region_choice = region_choice.sort_values(by='predict', ascending = False).head(200)\n",
    "    return (region_choice['product'].sum() * PROD_PRICE - INVESTMENTS)"
   ]
  },
  {
   "cell_type": "code",
   "execution_count": 23,
   "metadata": {},
   "outputs": [
    {
     "name": "stdout",
     "output_type": "stream",
     "text": [
      "Прибыль региона 0: 73519.10\n",
      "Прибыль региона 1: 356396.62\n",
      "Прибыль региона 2: 453476.55\n"
     ]
    }
   ],
   "source": [
    "print('Прибыль региона 0: {:.2f}'.format(region_profit(region_0_choice, region_0_predict)))\n",
    "print('Прибыль региона 1: {:.2f}'.format(region_profit(region_1_choice, region_1_predict)))\n",
    "print('Прибыль региона 2: {:.2f}'.format(region_profit(region_2_choice, region_2_predict)))"
   ]
  },
  {
   "cell_type": "markdown",
   "metadata": {},
   "source": [
    "# Вывод\n",
    "\n",
    "Для каждого региона из полного набора данных было отобрано случайным образом по 500 точек. Обученные для каждого региона модели выполнили предсказания.\n",
    "\n",
    "Написана функция, отбирающая из 500 - 200 точек с наибольшими предсказаниями и возвращающая прибыль.\n",
    "\n",
    "По факту на основании выбранных точек все три региона оказались доходными."
   ]
  },
  {
   "cell_type": "markdown",
   "metadata": {},
   "source": [
    "# 5. Расчёт рисков "
   ]
  },
  {
   "cell_type": "markdown",
   "metadata": {},
   "source": [
    "## Посчитать риски и прибыль для каждого региона\n",
    "### Применить технику Bootstrap с 1000 выборок, чтобы найти распределение прибыли"
   ]
  },
  {
   "cell_type": "markdown",
   "metadata": {},
   "source": [
    "### Найти среднюю прибыль, 95%-й доверительный интервал и риск убытков (убыток — это отрицательная прибыль)\n",
    "Вероятность того, что отобранные точки не принесут достаточной прибыли."
   ]
  },
  {
   "cell_type": "code",
   "execution_count": 24,
   "metadata": {},
   "outputs": [],
   "source": [
    "rnd_state = RandomState(28)"
   ]
  },
  {
   "cell_type": "markdown",
   "metadata": {},
   "source": [
    "Для каждого региона найдём среднее значение прибыли, 95%-й доверительный интервал и оценим долю отрицательных значений прибыли.\n",
    "\n",
    "Для 95%-й доверительного интервала границы: нижняя - 2.5%-квантиль, верхняя - 97.5%-квантиль."
   ]
  },
  {
   "cell_type": "code",
   "execution_count": 25,
   "metadata": {},
   "outputs": [],
   "source": [
    "regions = [geo_data_0, geo_data_1, geo_data_2]\n",
    "\n",
    "mean_result = pd.DataFrame(columns=['lower', 'upper', 'mean', 'risks'])\n",
    "\n",
    "num = 0\n",
    "for reg in regions:\n",
    "\n",
    "    values = []\n",
    "    risk_count = 0\n",
    "    for i in range(1000):\n",
    "        region_choice = reg.sample(n = TOTAL_POINTS, random_state = rnd_state, replace=False, axis = 0)\n",
    "        region_choice_features = region_choice.drop(['product'], axis=1)\n",
    "        region_target = region_choice['product']\n",
    "        \n",
    "        if num == 0:\n",
    "            predictions = model_0.predict(region_choice_features)\n",
    "        elif num == 1:\n",
    "            predictions = model_1.predict(region_choice_features)\n",
    "        else:\n",
    "            predictions = model_2.predict(region_choice_features)\n",
    "        \n",
    "        profit = region_profit(region_choice, predictions)\n",
    "        \n",
    "        values.append(profit)\n",
    "        \n",
    "        if profit < 0:\n",
    "            risk_count += 1\n",
    "    values = pd.Series(values)\n",
    "\n",
    "    reg_mean = values.mean()\n",
    "\n",
    "    lower = values.quantile(0.025)\n",
    "    upper = values.quantile(0.975)\n",
    "\n",
    "    mean_result.loc[num, 'lower'] = lower\n",
    "    mean_result.loc[num, 'upper'] = upper\n",
    "    mean_result.loc[num, 'mean'] = reg_mean\n",
    "    mean_result.loc[num, 'risks'] = risk_count / 1000\n",
    "     \n",
    "    num += 1"
   ]
  },
  {
   "cell_type": "markdown",
   "metadata": {},
   "source": [
    "Исходя из условий задачи, по фактическим значениям выборок отсеем регионы, в который убытки больше порогового значения (2,5%)."
   ]
  },
  {
   "cell_type": "code",
   "execution_count": 26,
   "metadata": {},
   "outputs": [
    {
     "data": {
      "text/html": [
       "<div>\n",
       "<style scoped>\n",
       "    .dataframe tbody tr th:only-of-type {\n",
       "        vertical-align: middle;\n",
       "    }\n",
       "\n",
       "    .dataframe tbody tr th {\n",
       "        vertical-align: top;\n",
       "    }\n",
       "\n",
       "    .dataframe thead th {\n",
       "        text-align: right;\n",
       "    }\n",
       "</style>\n",
       "<table border=\"1\" class=\"dataframe\">\n",
       "  <thead>\n",
       "    <tr style=\"text-align: right;\">\n",
       "      <th></th>\n",
       "      <th>lower</th>\n",
       "      <th>upper</th>\n",
       "      <th>mean</th>\n",
       "      <th>risks</th>\n",
       "      <th>risk_recomend</th>\n",
       "    </tr>\n",
       "  </thead>\n",
       "  <tbody>\n",
       "    <tr>\n",
       "      <th>1</th>\n",
       "      <td>64,572.11</td>\n",
       "      <td>835,159.62</td>\n",
       "      <td>447,097.10</td>\n",
       "      <td>0.01</td>\n",
       "      <td>рекомендован</td>\n",
       "    </tr>\n",
       "    <tr>\n",
       "      <th>0</th>\n",
       "      <td>-61,822.70</td>\n",
       "      <td>916,037.40</td>\n",
       "      <td>422,434.23</td>\n",
       "      <td>0.04</td>\n",
       "      <td>не рекомендован</td>\n",
       "    </tr>\n",
       "    <tr>\n",
       "      <th>2</th>\n",
       "      <td>-162,649.04</td>\n",
       "      <td>876,454.56</td>\n",
       "      <td>359,994.05</td>\n",
       "      <td>0.10</td>\n",
       "      <td>не рекомендован</td>\n",
       "    </tr>\n",
       "  </tbody>\n",
       "</table>\n",
       "</div>"
      ],
      "text/plain": [
       "        lower      upper       mean risks    risk_recomend\n",
       "1   64,572.11 835,159.62 447,097.10  0.01     рекомендован\n",
       "0  -61,822.70 916,037.40 422,434.23  0.04  не рекомендован\n",
       "2 -162,649.04 876,454.56 359,994.05  0.10  не рекомендован"
      ]
     },
     "execution_count": 26,
     "metadata": {},
     "output_type": "execute_result"
    }
   ],
   "source": [
    "mean_result.loc[mean_result['risks'] >= LOSS, 'risk_recomend'] = 'не рекомендован'\n",
    "mean_result.loc[mean_result['risks'] < LOSS, 'risk_recomend'] = 'рекомендован'\n",
    "\n",
    "mean_result.sort_values(by='mean', ascending = False)"
   ]
  },
  {
   "cell_type": "markdown",
   "metadata": {},
   "source": [
    "В регионах 0 и 2 риск убытков превышает допустимый порог.\n",
    "\n",
    "К разработке рекомендуется регион 1, как регион с риском убытков, не превышающих допустимый порог (по значению нижней границы доверительного интервала, расчитаной при помощи кватиля, можно сказать, что не менее 97,5% случайных выборок дадут положительную прибыль), а также, как регион с наибольшей средней выручкой."
   ]
  },
  {
   "cell_type": "markdown",
   "metadata": {},
   "source": [
    "# Вывод"
   ]
  },
  {
   "cell_type": "markdown",
   "metadata": {},
   "source": [
    "Для каждого региона был найден 95%-й доверителный интервал для среднего значения прибыли.\n",
    "\n",
    "Для разработки предлагается регион 1, как регион с наибольшей средней выручкой из регионов, где риск убытков не превышает установленный порог.\n",
    "\n"
   ]
  },
  {
   "cell_type": "markdown",
   "metadata": {},
   "source": [
    "# 6. Общий вывод"
   ]
  },
  {
   "cell_type": "markdown",
   "metadata": {},
   "source": [
    "В исследовании были рассмотрены данные о запасах нефти в трёх регионах.\n",
    "\n",
    "Для оценки запасов была построены модели линейной регрессии. Предсказанный средний объём сырья в регионах от 68.68 до 94.70. По каждому региону было получено среднее значение запасов на одну скважину, для каждого региона оно оказалось меньше достаточного минимального количества сырья. Если бы все 200 рзрабатываемые вышки в регионе обладали запасом сырья равным определённому среднему для региона, разработка в каждом из регионов была бы убыточной.\n",
    "\n",
    "На этапе 3 после оценки потенциальной прибыли, исходя из средней оценки запасов, предпочтения в выборе регионов были бы такими: 2, 0, 1. \n",
    "\n",
    "За счёт отбора только 200 точек с наибольшим предсказанным значением количества сырья из 500 среднее предсказанное значение увеличивается, а значит, с определённой долей вероятности должно увеличиться и фактическое среднее значение.\n",
    "\n",
    "Для каждого региона была сделана выборка из 500 случайных точек. Для них предсказаны значения продукции. Отобраны 200 точек с наибольшим предсказанным количеством сырья. \n",
    "Предпочтения в выборе регионов, основываясь на единичной случайной выборке из 500 точек: 2, 1, 0.\n",
    "\n",
    "Были найдены 95% доверительные интервалы средних значений сырья (границы, в которые попадает 95% значений прибыли) и пределены средние значения потенциальной прибыли для 1000 случайных выборок из 500 точек. \n",
    "\n",
    "На основании этих данных предпочтения по максимальному среднему в выборе регионов: 1, 0, 2.\n",
    "\n",
    "Для разработки рекомендован регион 1, как регион с наибольшей средней выручкой из регионов, где риск убытков не превышает установленный порог."
   ]
  }
 ],
 "metadata": {
  "kernelspec": {
   "display_name": "Python 3",
   "language": "python",
   "name": "python3"
  },
  "language_info": {
   "codemirror_mode": {
    "name": "ipython",
    "version": 3
   },
   "file_extension": ".py",
   "mimetype": "text/x-python",
   "name": "python",
   "nbconvert_exporter": "python",
   "pygments_lexer": "ipython3",
   "version": "3.7.8"
  },
  "toc": {
   "base_numbering": 1,
   "nav_menu": {},
   "number_sections": true,
   "sideBar": true,
   "skip_h1_title": true,
   "title_cell": "Table of Contents",
   "title_sidebar": "Contents",
   "toc_cell": false,
   "toc_position": {},
   "toc_section_display": true,
   "toc_window_display": false
  }
 },
 "nbformat": 4,
 "nbformat_minor": 2
}
